{
 "cells": [
  {
   "cell_type": "code",
   "execution_count": 1,
   "id": "1d8b5de4-03dc-465e-89d8-0df42cdeac81",
   "metadata": {},
   "outputs": [],
   "source": [
    "import pandas as pd\n",
    "import numpy as np\n",
    "import json\n",
    "\n",
    "import utils\n",
    "import ml\n",
    "\n",
    "import warnings\n",
    "warnings.filterwarnings(\"ignore\")"
   ]
  },
  {
   "cell_type": "markdown",
   "id": "5ff34f14-b9e0-4789-9822-ab714727ae42",
   "metadata": {},
   "source": [
    "## Downloading dataset"
   ]
  },
  {
   "cell_type": "code",
   "execution_count": 2,
   "id": "61bf9c58-747a-4122-ab29-032589896ce8",
   "metadata": {},
   "outputs": [
    {
     "name": "stdout",
     "output_type": "stream",
     "text": [
      "dataset.csv already exists in the current directory.\n"
     ]
    },
    {
     "data": {
      "text/html": [
       "<div>\n",
       "<style scoped>\n",
       "    .dataframe tbody tr th:only-of-type {\n",
       "        vertical-align: middle;\n",
       "    }\n",
       "\n",
       "    .dataframe tbody tr th {\n",
       "        vertical-align: top;\n",
       "    }\n",
       "\n",
       "    .dataframe thead th {\n",
       "        text-align: right;\n",
       "    }\n",
       "</style>\n",
       "<table border=\"1\" class=\"dataframe\">\n",
       "  <thead>\n",
       "    <tr style=\"text-align: right;\">\n",
       "      <th></th>\n",
       "      <th>smiles</th>\n",
       "      <th>pIC50</th>\n",
       "      <th>active</th>\n",
       "      <th>finger print</th>\n",
       "      <th>selfies</th>\n",
       "      <th>mordred</th>\n",
       "      <th>selfies encoding</th>\n",
       "    </tr>\n",
       "  </thead>\n",
       "  <tbody>\n",
       "    <tr>\n",
       "      <th>0</th>\n",
       "      <td>Brc1cccc(Nc2ncnc3cc4ccccc4cc23)c1</td>\n",
       "      <td>11.522879</td>\n",
       "      <td>1.0</td>\n",
       "      <td>[0, 0, 0, 0, 0, 0, 0, 0, 0, 0, 0, 0, 0, 0, 0, ...</td>\n",
       "      <td>[Br][C][=C][C][=C][C][Branch2][Ring1][=Branch1...</td>\n",
       "      <td>[0.0, 0.0, 20.0, 22.0, 34.0, 22.0, 0.0, 0.0, 4...</td>\n",
       "      <td>[27, 34, 15, 34, 15, 34, 29, 46, 13, 41, 34, 1...</td>\n",
       "    </tr>\n",
       "    <tr>\n",
       "      <th>1</th>\n",
       "      <td>CCOc1cc2ncnc(Nc3cccc(Br)c3)c2cc1OCC</td>\n",
       "      <td>11.221849</td>\n",
       "      <td>1.0</td>\n",
       "      <td>[0, 0, 0, 0, 0, 0, 0, 0, 0, 0, 0, 0, 0, 0, 0, ...</td>\n",
       "      <td>[C][C][O][C][=C][C][=N][C][=N][C][Branch1][=N]...</td>\n",
       "      <td>[0.0, 0.0, 16.0, 17.0, 42.0, 24.0, 0.0, 0.0, 6...</td>\n",
       "      <td>[34, 34, 44, 34, 15, 34, 18, 34, 18, 34, 28, 1...</td>\n",
       "    </tr>\n",
       "    <tr>\n",
       "      <th>2</th>\n",
       "      <td>CN(C)c1cc2c(Nc3cccc(Br)c3)ncnc2cn1</td>\n",
       "      <td>11.221849</td>\n",
       "      <td>1.0</td>\n",
       "      <td>[0, 0, 0, 0, 0, 0, 0, 0, 1, 0, 0, 0, 0, 0, 0, ...</td>\n",
       "      <td>[C][N][Branch1][C][C][C][=C][C][=C][Branch1][=...</td>\n",
       "      <td>[0.0, 0.0, 16.0, 17.0, 35.0, 21.0, 0.0, 0.0, 6...</td>\n",
       "      <td>[34, 41, 28, 34, 34, 34, 15, 34, 15, 28, 18, 4...</td>\n",
       "    </tr>\n",
       "    <tr>\n",
       "      <th>3</th>\n",
       "      <td>Brc1cccc(Nc2ncnc3cc4[nH]cnc4cc23)c1</td>\n",
       "      <td>11.096910</td>\n",
       "      <td>1.0</td>\n",
       "      <td>[0, 0, 0, 0, 0, 0, 0, 0, 0, 0, 0, 0, 0, 0, 0, ...</td>\n",
       "      <td>[Br][C][=C][C][=C][C][Branch2][Ring1][Branch1]...</td>\n",
       "      <td>[0.0, 0.0, 19.0, 21.0, 31.0, 21.0, 0.0, 0.0, 6...</td>\n",
       "      <td>[27, 34, 15, 34, 15, 34, 29, 46, 28, 41, 34, 1...</td>\n",
       "    </tr>\n",
       "    <tr>\n",
       "      <th>4</th>\n",
       "      <td>CNc1cc2c(Nc3cccc(Br)c3)ncnc2cn1</td>\n",
       "      <td>11.096910</td>\n",
       "      <td>1.0</td>\n",
       "      <td>[0, 0, 0, 0, 0, 0, 0, 0, 1, 0, 0, 0, 0, 0, 0, ...</td>\n",
       "      <td>[C][N][C][=C][C][=C][Branch1][=N][N][C][=C][C]...</td>\n",
       "      <td>[0.0, 0.0, 16.0, 17.0, 32.0, 20.0, 0.0, 0.0, 6...</td>\n",
       "      <td>[34, 41, 34, 15, 34, 15, 28, 18, 41, 34, 15, 3...</td>\n",
       "    </tr>\n",
       "    <tr>\n",
       "      <th>...</th>\n",
       "      <td>...</td>\n",
       "      <td>...</td>\n",
       "      <td>...</td>\n",
       "      <td>...</td>\n",
       "      <td>...</td>\n",
       "      <td>...</td>\n",
       "      <td>...</td>\n",
       "    </tr>\n",
       "    <tr>\n",
       "      <th>4630</th>\n",
       "      <td>COc1cc(C=C(C#N)C#N)cc(C)c1O</td>\n",
       "      <td>2.585027</td>\n",
       "      <td>0.0</td>\n",
       "      <td>[0, 0, 0, 0, 0, 0, 0, 0, 0, 0, 0, 0, 0, 0, 0, ...</td>\n",
       "      <td>[C][O][C][=C][C][Branch1][=Branch2][C][=C][Bra...</td>\n",
       "      <td>[0.0, 0.0, 6.0, 6.0, 26.0, 16.0, 0.0, 0.0, 4.0...</td>\n",
       "      <td>[34, 44, 34, 15, 34, 28, 14, 34, 15, 28, 46, 3...</td>\n",
       "    </tr>\n",
       "    <tr>\n",
       "      <th>4631</th>\n",
       "      <td>O=C(O)/C=C/c1ccc(O)cc1</td>\n",
       "      <td>2.522879</td>\n",
       "      <td>0.0</td>\n",
       "      <td>[0, 0, 0, 0, 0, 0, 0, 0, 0, 0, 0, 0, 0, 0, 0, ...</td>\n",
       "      <td>[O][=C][Branch1][C][O][/C][=C][/C][=C][C][=C][...</td>\n",
       "      <td>[1.0, 0.0, 6.0, 6.0, 20.0, 12.0, 0.0, 0.0, 3.0...</td>\n",
       "      <td>[44, 15, 28, 34, 44, 7, 15, 7, 15, 34, 15, 28,...</td>\n",
       "    </tr>\n",
       "    <tr>\n",
       "      <th>4632</th>\n",
       "      <td>CN(c1cccnc1)c1cc2c(Nc3ccc(F)c(Cl)c3)c(C#N)cnc2cn1</td>\n",
       "      <td>2.301030</td>\n",
       "      <td>0.0</td>\n",
       "      <td>[0, 0, 0, 0, 0, 0, 0, 0, 1, 0, 0, 0, 0, 0, 0, ...</td>\n",
       "      <td>[C][N][Branch1][=Branch2][C][=C][C][=C][N][=C]...</td>\n",
       "      <td>[0.0, 0.0, 22.0, 23.0, 43.0, 29.0, 0.0, 0.0, 8...</td>\n",
       "      <td>[34, 41, 28, 14, 34, 15, 34, 15, 41, 15, 46, 1...</td>\n",
       "    </tr>\n",
       "    <tr>\n",
       "      <th>4633</th>\n",
       "      <td>N#CC(C#N)Cc1ccc(O)cc1</td>\n",
       "      <td>2.187087</td>\n",
       "      <td>0.0</td>\n",
       "      <td>[0, 1, 0, 0, 0, 0, 0, 0, 0, 0, 0, 0, 0, 0, 0, ...</td>\n",
       "      <td>[N][#C][C][Branch1][Ring1][C][#N][C][C][=C][C]...</td>\n",
       "      <td>[0.0, 0.0, 6.0, 6.0, 21.0, 13.0, 0.0, 0.0, 3.0...</td>\n",
       "      <td>[41, 3, 34, 28, 46, 34, 4, 34, 34, 15, 34, 15,...</td>\n",
       "    </tr>\n",
       "    <tr>\n",
       "      <th>4634</th>\n",
       "      <td>O=C(CCc1ccc(O)cc1)c1c(O)cc(O)cc1O</td>\n",
       "      <td>1.602060</td>\n",
       "      <td>0.0</td>\n",
       "      <td>[0, 0, 0, 0, 0, 0, 0, 0, 0, 0, 0, 0, 0, 0, 0, ...</td>\n",
       "      <td>[O][=C][Branch1][=C][C][C][C][=C][C][=C][Branc...</td>\n",
       "      <td>[0.0, 0.0, 12.0, 12.0, 34.0, 20.0, 0.0, 0.0, 5...</td>\n",
       "      <td>[44, 15, 28, 15, 34, 34, 34, 15, 34, 15, 28, 3...</td>\n",
       "    </tr>\n",
       "  </tbody>\n",
       "</table>\n",
       "<p>4635 rows × 7 columns</p>\n",
       "</div>"
      ],
      "text/plain": [
       "                                                 smiles      pIC50  active  \\\n",
       "0                     Brc1cccc(Nc2ncnc3cc4ccccc4cc23)c1  11.522879     1.0   \n",
       "1                   CCOc1cc2ncnc(Nc3cccc(Br)c3)c2cc1OCC  11.221849     1.0   \n",
       "2                    CN(C)c1cc2c(Nc3cccc(Br)c3)ncnc2cn1  11.221849     1.0   \n",
       "3                   Brc1cccc(Nc2ncnc3cc4[nH]cnc4cc23)c1  11.096910     1.0   \n",
       "4                       CNc1cc2c(Nc3cccc(Br)c3)ncnc2cn1  11.096910     1.0   \n",
       "...                                                 ...        ...     ...   \n",
       "4630                        COc1cc(C=C(C#N)C#N)cc(C)c1O   2.585027     0.0   \n",
       "4631                             O=C(O)/C=C/c1ccc(O)cc1   2.522879     0.0   \n",
       "4632  CN(c1cccnc1)c1cc2c(Nc3ccc(F)c(Cl)c3)c(C#N)cnc2cn1   2.301030     0.0   \n",
       "4633                              N#CC(C#N)Cc1ccc(O)cc1   2.187087     0.0   \n",
       "4634                  O=C(CCc1ccc(O)cc1)c1c(O)cc(O)cc1O   1.602060     0.0   \n",
       "\n",
       "                                           finger print  \\\n",
       "0     [0, 0, 0, 0, 0, 0, 0, 0, 0, 0, 0, 0, 0, 0, 0, ...   \n",
       "1     [0, 0, 0, 0, 0, 0, 0, 0, 0, 0, 0, 0, 0, 0, 0, ...   \n",
       "2     [0, 0, 0, 0, 0, 0, 0, 0, 1, 0, 0, 0, 0, 0, 0, ...   \n",
       "3     [0, 0, 0, 0, 0, 0, 0, 0, 0, 0, 0, 0, 0, 0, 0, ...   \n",
       "4     [0, 0, 0, 0, 0, 0, 0, 0, 1, 0, 0, 0, 0, 0, 0, ...   \n",
       "...                                                 ...   \n",
       "4630  [0, 0, 0, 0, 0, 0, 0, 0, 0, 0, 0, 0, 0, 0, 0, ...   \n",
       "4631  [0, 0, 0, 0, 0, 0, 0, 0, 0, 0, 0, 0, 0, 0, 0, ...   \n",
       "4632  [0, 0, 0, 0, 0, 0, 0, 0, 1, 0, 0, 0, 0, 0, 0, ...   \n",
       "4633  [0, 1, 0, 0, 0, 0, 0, 0, 0, 0, 0, 0, 0, 0, 0, ...   \n",
       "4634  [0, 0, 0, 0, 0, 0, 0, 0, 0, 0, 0, 0, 0, 0, 0, ...   \n",
       "\n",
       "                                                selfies  \\\n",
       "0     [Br][C][=C][C][=C][C][Branch2][Ring1][=Branch1...   \n",
       "1     [C][C][O][C][=C][C][=N][C][=N][C][Branch1][=N]...   \n",
       "2     [C][N][Branch1][C][C][C][=C][C][=C][Branch1][=...   \n",
       "3     [Br][C][=C][C][=C][C][Branch2][Ring1][Branch1]...   \n",
       "4     [C][N][C][=C][C][=C][Branch1][=N][N][C][=C][C]...   \n",
       "...                                                 ...   \n",
       "4630  [C][O][C][=C][C][Branch1][=Branch2][C][=C][Bra...   \n",
       "4631  [O][=C][Branch1][C][O][/C][=C][/C][=C][C][=C][...   \n",
       "4632  [C][N][Branch1][=Branch2][C][=C][C][=C][N][=C]...   \n",
       "4633  [N][#C][C][Branch1][Ring1][C][#N][C][C][=C][C]...   \n",
       "4634  [O][=C][Branch1][=C][C][C][C][=C][C][=C][Branc...   \n",
       "\n",
       "                                                mordred  \\\n",
       "0     [0.0, 0.0, 20.0, 22.0, 34.0, 22.0, 0.0, 0.0, 4...   \n",
       "1     [0.0, 0.0, 16.0, 17.0, 42.0, 24.0, 0.0, 0.0, 6...   \n",
       "2     [0.0, 0.0, 16.0, 17.0, 35.0, 21.0, 0.0, 0.0, 6...   \n",
       "3     [0.0, 0.0, 19.0, 21.0, 31.0, 21.0, 0.0, 0.0, 6...   \n",
       "4     [0.0, 0.0, 16.0, 17.0, 32.0, 20.0, 0.0, 0.0, 6...   \n",
       "...                                                 ...   \n",
       "4630  [0.0, 0.0, 6.0, 6.0, 26.0, 16.0, 0.0, 0.0, 4.0...   \n",
       "4631  [1.0, 0.0, 6.0, 6.0, 20.0, 12.0, 0.0, 0.0, 3.0...   \n",
       "4632  [0.0, 0.0, 22.0, 23.0, 43.0, 29.0, 0.0, 0.0, 8...   \n",
       "4633  [0.0, 0.0, 6.0, 6.0, 21.0, 13.0, 0.0, 0.0, 3.0...   \n",
       "4634  [0.0, 0.0, 12.0, 12.0, 34.0, 20.0, 0.0, 0.0, 5...   \n",
       "\n",
       "                                       selfies encoding  \n",
       "0     [27, 34, 15, 34, 15, 34, 29, 46, 13, 41, 34, 1...  \n",
       "1     [34, 34, 44, 34, 15, 34, 18, 34, 18, 34, 28, 1...  \n",
       "2     [34, 41, 28, 34, 34, 34, 15, 34, 15, 28, 18, 4...  \n",
       "3     [27, 34, 15, 34, 15, 34, 29, 46, 28, 41, 34, 1...  \n",
       "4     [34, 41, 34, 15, 34, 15, 28, 18, 41, 34, 15, 3...  \n",
       "...                                                 ...  \n",
       "4630  [34, 44, 34, 15, 34, 28, 14, 34, 15, 28, 46, 3...  \n",
       "4631  [44, 15, 28, 34, 44, 7, 15, 7, 15, 34, 15, 28,...  \n",
       "4632  [34, 41, 28, 14, 34, 15, 34, 15, 41, 15, 46, 1...  \n",
       "4633  [41, 3, 34, 28, 46, 34, 4, 34, 34, 15, 34, 15,...  \n",
       "4634  [44, 15, 28, 15, 34, 34, 34, 15, 34, 15, 28, 3...  \n",
       "\n",
       "[4635 rows x 7 columns]"
      ]
     },
     "execution_count": 2,
     "metadata": {},
     "output_type": "execute_result"
    }
   ],
   "source": [
    "df = utils.download_data(filename='dataset.csv')\n",
    "df = df[[\"smiles\", \"pIC50\"]]\n",
    "# Add column for activity\n",
    "df[\"active\"] = np.zeros(len(df))\n",
    "\n",
    "# Mark every molecule as active with an pIC50 of >= 8.0, 0 otherwise\n",
    "pIC50_cut_off = 8.0\n",
    "df.loc[df[df.pIC50 >= pIC50_cut_off].index, \"active\"] = 1.0\n",
    "\n",
    "df[\"finger print\"] = df[\"smiles\"].apply(utils.smiles_to_descriptors, type='morgan2')\n",
    "df[\"selfies\"] = df[\"smiles\"].apply(utils.smiles_to_descriptors, type='selfies')\n",
    "df['mordred'] = pd.read_pickle('saved_results/cleaned_up_mordred_descriptors.pkl')\n",
    "mordred_features = np.vstack(df['mordred'])\n",
    "\n",
    "\n",
    "import selfies as sf\n",
    "with open('saved_results/selfies_voc.json', 'r') as f:\n",
    "    voc = json.load(f)\n",
    "pad_to_len = max(sf.len_selfies(s) for s in df[\"selfies\"])\n",
    "df['selfies encoding'] = df[\"selfies\"].apply(utils.selfies_to_encoding, vocab_stoi=voc, pad_to_len=pad_to_len)\n",
    "\n",
    "df"
   ]
  },
  {
   "cell_type": "markdown",
   "id": "c9a03d2b-43ef-43e8-9e74-0248a2d46b95",
   "metadata": {},
   "source": [
    "## Cross validation"
   ]
  },
  {
   "cell_type": "markdown",
   "id": "badba35c-394b-482c-8db8-cff18b1a9716",
   "metadata": {},
   "source": [
    "### Baseline model"
   ]
  },
  {
   "cell_type": "code",
   "execution_count": 40,
   "id": "76dc2354-1cfc-4a57-adf5-8764cadb5b9a",
   "metadata": {},
   "outputs": [
    {
     "name": "stderr",
     "output_type": "stream",
     "text": [
      "5it [07:42, 92.45s/it]"
     ]
    },
    {
     "name": "stdout",
     "output_type": "stream",
     "text": [
      "ACC:\t 0.81 ± 0.01 \n",
      "AUC:\t 0.82 ± 0.02 \n",
      "F1:\t 0.10 ± 0.03 \n",
      "\n"
     ]
    },
    {
     "name": "stderr",
     "output_type": "stream",
     "text": [
      "\n"
     ]
    }
   ],
   "source": [
    "from sklearn import svm, metrics, clone\n",
    "# Specify model\n",
    "model_SVM = svm.SVC(kernel=\"rbf\", C=1, gamma=0.5, probability=True)\n",
    "\n",
    "base_line_cv = utils.base_model_crossvalidation(model_SVM, df, X_columns='finger print', y_columns='active')"
   ]
  },
  {
   "cell_type": "code",
   "execution_count": 41,
   "id": "39c6a7e0-baa9-47df-99b9-9e6ea0cf3327",
   "metadata": {},
   "outputs": [],
   "source": [
    "with open('saved_results/base_line_cv.json', 'w') as f:\n",
    "    json.dump(base_line_cv, f, indent = 4)"
   ]
  },
  {
   "cell_type": "markdown",
   "id": "6a36713e-189e-440c-abc2-bf3db8430840",
   "metadata": {},
   "source": [
    "### RNN model"
   ]
  },
  {
   "cell_type": "code",
   "execution_count": 6,
   "id": "d648abf9-26fc-4dbd-86bb-ba75e6196af9",
   "metadata": {},
   "outputs": [
    {
     "name": "stdout",
     "output_type": "stream",
     "text": [
      "60 Mordred features are selected, that result Test AUC: 0.903\n",
      "\n",
      "Mordred feature indices:\n",
      "[56, 126, 129, 134, 135, 137, 138, 139, 154, 158, 162, 169, 176, 180, 190, 194, 199, 203, 206, 207, 246, 264, 343, 350, 354, 358, 387, 417, 423, 428, 429, 431, 441, 444, 445, 452, 455, 459, 464, 468, 470, 471, 473, 474, 485, 490, 491, 492, 493, 494, 495, 496, 514, 527, 600, 613, 616, 617, 618, 623]\n"
     ]
    }
   ],
   "source": [
    "saving_path_mordred_RFE = 'saved_results/Mordred_recursive_feature_selection.json'\n",
    "with open(saving_path_mordred_RFE, 'r') as f:\n",
    "    RFE_dict = json.load(f)\n",
    "\n",
    "nummber_of_features = [e[\"Number of features\"] for e in RFE_dict]\n",
    "AUC_scores = [e[\"AUC Score\"] for e in RFE_dict]\n",
    "selected_modred_features_indices = [e[\"Selected Mordred features indices\"] for e in RFE_dict]\n",
    "optimal_mordred_features_indices = selected_modred_features_indices[np.argmax(AUC_scores)]\n",
    "print(f'{len(optimal_mordred_features_indices)} Mordred features are selected, that result Test AUC: {AUC_scores[np.argmax(AUC_scores)]}\\\n",
    "\\n\\nMordred feature indices:\\n{optimal_mordred_features_indices}')\n"
   ]
  },
  {
   "cell_type": "code",
   "execution_count": 33,
   "id": "02dd2591-eba5-4281-8200-a4f4ae9bebf3",
   "metadata": {},
   "outputs": [],
   "source": [
    "from dataclasses import dataclass\n",
    "@dataclass\n",
    "class LSTM_Config:\n",
    "    vocab_size: int = len(voc)\n",
    "    batch_size: int = 64\n",
    "    rnn_units: int = 16\n",
    "    hidden_dim: int = 32\n",
    "    embedding_dim: int = 8\n",
    "    reg_strength: float = 0.001\n",
    "    lr: float = 1e-3\n",
    "    drop_rate: float = 0.2\n",
    "    epochs: int = 100\n",
    "    early_stopping_patience: int = 8\n",
    "    \n",
    "\n",
    "lstm_config = LSTM_Config()\n"
   ]
  },
  {
   "cell_type": "code",
   "execution_count": 34,
   "id": "7eb3d7c9-a5d9-45d0-923a-2fdc7a6f0cc3",
   "metadata": {},
   "outputs": [
    {
     "name": "stderr",
     "output_type": "stream",
     "text": [
      "0it [00:00, ?it/s]"
     ]
    },
    {
     "name": "stdout",
     "output_type": "stream",
     "text": [
      "29/29 [==============================] - 2s 52ms/step - loss: 0.4323 - binary_accuracy: 0.8134 - auc: 0.7963 - f1_score: 0.2822\n"
     ]
    },
    {
     "name": "stderr",
     "output_type": "stream",
     "text": [
      "1it [07:30, 450.14s/it]"
     ]
    },
    {
     "name": "stdout",
     "output_type": "stream",
     "text": [
      "29/29 [==============================] - 1s 41ms/step - loss: 0.4148 - binary_accuracy: 0.7994 - auc: 0.8118 - f1_score: 0.0882\n"
     ]
    },
    {
     "name": "stderr",
     "output_type": "stream",
     "text": [
      "2it [12:37, 366.36s/it]"
     ]
    },
    {
     "name": "stdout",
     "output_type": "stream",
     "text": [
      "29/29 [==============================] - 1s 40ms/step - loss: 0.4165 - binary_accuracy: 0.8058 - auc: 0.8084 - f1_score: 0.5082\n"
     ]
    },
    {
     "name": "stderr",
     "output_type": "stream",
     "text": [
      "3it [21:36, 445.19s/it]"
     ]
    },
    {
     "name": "stdout",
     "output_type": "stream",
     "text": [
      "29/29 [==============================] - 1s 50ms/step - loss: 0.4233 - binary_accuracy: 0.8188 - auc: 0.7794 - f1_score: 0.1600\n"
     ]
    },
    {
     "name": "stderr",
     "output_type": "stream",
     "text": [
      "4it [27:19, 404.83s/it]"
     ]
    },
    {
     "name": "stdout",
     "output_type": "stream",
     "text": [
      "29/29 [==============================] - 1s 42ms/step - loss: 0.4024 - binary_accuracy: 0.8058 - auc: 0.8196 - f1_score: 0.4611\n"
     ]
    },
    {
     "name": "stderr",
     "output_type": "stream",
     "text": [
      "5it [37:28, 449.78s/it]"
     ]
    },
    {
     "name": "stdout",
     "output_type": "stream",
     "text": [
      "ACC:\t 0.81 ± 0.01 \n",
      "AUC:\t 0.80 ± 0.01 \n",
      "F1:\t 0.30 ± 0.16 \n",
      "\n"
     ]
    },
    {
     "name": "stderr",
     "output_type": "stream",
     "text": [
      "\n"
     ]
    }
   ],
   "source": [
    "RNN_simple = utils.RNN_model_crossvalidation(df, lstm_config,\n",
    "                                                    optimal_mordred_features_indices=optimal_mordred_features_indices,\n",
    "                                                    add_finger_print=False, add_mordred=False)\n",
    "with open('saved_results/RNN_simple_cv.json', 'w') as f:\n",
    "    json.dump(RNN_simple, f, indent = 4)"
   ]
  },
  {
   "cell_type": "code",
   "execution_count": 36,
   "id": "4f480c64-a392-4c6d-907c-8f155ae63cd3",
   "metadata": {},
   "outputs": [
    {
     "name": "stderr",
     "output_type": "stream",
     "text": [
      "0it [00:00, ?it/s]"
     ]
    },
    {
     "name": "stdout",
     "output_type": "stream",
     "text": [
      "29/29 [==============================] - 1s 49ms/step - loss: 0.4030 - binary_accuracy: 0.8425 - auc: 0.8799 - f1_score: 0.5731\n"
     ]
    },
    {
     "name": "stderr",
     "output_type": "stream",
     "text": [
      "1it [03:32, 212.45s/it]"
     ]
    },
    {
     "name": "stdout",
     "output_type": "stream",
     "text": [
      "29/29 [==============================] - 2s 51ms/step - loss: 0.4073 - binary_accuracy: 0.8576 - auc: 0.8983 - f1_score: 0.6095\n"
     ]
    },
    {
     "name": "stderr",
     "output_type": "stream",
     "text": [
      "2it [07:09, 215.37s/it]"
     ]
    },
    {
     "name": "stdout",
     "output_type": "stream",
     "text": [
      "29/29 [==============================] - 1s 42ms/step - loss: 0.3745 - binary_accuracy: 0.8738 - auc: 0.8897 - f1_score: 0.6422\n"
     ]
    },
    {
     "name": "stderr",
     "output_type": "stream",
     "text": [
      "3it [09:24, 178.46s/it]"
     ]
    },
    {
     "name": "stdout",
     "output_type": "stream",
     "text": [
      "29/29 [==============================] - 2s 54ms/step - loss: 0.3878 - binary_accuracy: 0.8425 - auc: 0.8844 - f1_score: 0.5602\n"
     ]
    },
    {
     "name": "stderr",
     "output_type": "stream",
     "text": [
      "4it [14:01, 217.33s/it]"
     ]
    },
    {
     "name": "stdout",
     "output_type": "stream",
     "text": [
      "29/29 [==============================] - 1s 48ms/step - loss: 0.3739 - binary_accuracy: 0.8425 - auc: 0.8952 - f1_score: 0.5780\n"
     ]
    },
    {
     "name": "stderr",
     "output_type": "stream",
     "text": [
      "5it [16:50, 202.12s/it]"
     ]
    },
    {
     "name": "stdout",
     "output_type": "stream",
     "text": [
      "ACC:\t 0.85 ± 0.01 \n",
      "AUC:\t 0.89 ± 0.01 \n",
      "F1:\t 0.59 ± 0.03 \n",
      "\n"
     ]
    },
    {
     "name": "stderr",
     "output_type": "stream",
     "text": [
      "\n"
     ]
    }
   ],
   "source": [
    "RNN_with_ECFP4 = utils.RNN_model_crossvalidation(df, lstm_config,\n",
    "                                                    optimal_mordred_features_indices=optimal_mordred_features_indices,\n",
    "                                                    add_finger_print=True, add_mordred=False)\n",
    "\n",
    "with open('saved_results/RNN_with_ECFP4_cv.json', 'w') as f:\n",
    "    json.dump(RNN_with_ECFP4, f, indent = 4)"
   ]
  },
  {
   "cell_type": "code",
   "execution_count": 38,
   "id": "abeffb35-081e-460d-ad39-ff88c67941ac",
   "metadata": {},
   "outputs": [
    {
     "name": "stderr",
     "output_type": "stream",
     "text": [
      "0it [00:00, ?it/s]"
     ]
    },
    {
     "name": "stdout",
     "output_type": "stream",
     "text": [
      "29/29 [==============================] - 2s 54ms/step - loss: 0.4108 - binary_accuracy: 0.8457 - auc: 0.8819 - f1_score: 0.6039\n"
     ]
    },
    {
     "name": "stderr",
     "output_type": "stream",
     "text": [
      "1it [04:10, 250.95s/it]"
     ]
    },
    {
     "name": "stdout",
     "output_type": "stream",
     "text": [
      "29/29 [==============================] - 1s 48ms/step - loss: 0.3698 - binary_accuracy: 0.8706 - auc: 0.9046 - f1_score: 0.5833\n"
     ]
    },
    {
     "name": "stderr",
     "output_type": "stream",
     "text": [
      "2it [06:53, 198.89s/it]"
     ]
    },
    {
     "name": "stdout",
     "output_type": "stream",
     "text": [
      "29/29 [==============================] - 1s 42ms/step - loss: 0.4013 - binary_accuracy: 0.8371 - auc: 0.8703 - f1_score: 0.5840\n"
     ]
    },
    {
     "name": "stderr",
     "output_type": "stream",
     "text": [
      "3it [09:38, 183.56s/it]"
     ]
    },
    {
     "name": "stdout",
     "output_type": "stream",
     "text": [
      "29/29 [==============================] - 2s 50ms/step - loss: 0.3645 - binary_accuracy: 0.8684 - auc: 0.8945 - f1_score: 0.6115\n"
     ]
    },
    {
     "name": "stderr",
     "output_type": "stream",
     "text": [
      "4it [13:04, 192.41s/it]"
     ]
    },
    {
     "name": "stdout",
     "output_type": "stream",
     "text": [
      "29/29 [==============================] - 1s 43ms/step - loss: 0.3941 - binary_accuracy: 0.8652 - auc: 0.9054 - f1_score: 0.6398\n"
     ]
    },
    {
     "name": "stderr",
     "output_type": "stream",
     "text": [
      "5it [16:24, 196.95s/it]"
     ]
    },
    {
     "name": "stdout",
     "output_type": "stream",
     "text": [
      "ACC:\t 0.86 ± 0.01 \n",
      "AUC:\t 0.89 ± 0.01 \n",
      "F1:\t 0.60 ± 0.02 \n",
      "\n"
     ]
    },
    {
     "name": "stderr",
     "output_type": "stream",
     "text": [
      "\n"
     ]
    }
   ],
   "source": [
    "RNN_with_mordred = RNN_model_crossvalidation(df, lstm_config,\n",
    "                                                    optimal_mordred_features_indices=optimal_mordred_features_indices,\n",
    "                                                    add_finger_print=True, add_mordred=True)\n",
    "\n",
    "with open('saved_results/RNN_with_ECFP4_mordred_cv.json', 'w') as f:\n",
    "    json.dump(RNN_with_mordred, f, indent = 4)"
   ]
  }
 ],
 "metadata": {
  "kernelspec": {
   "display_name": "valance",
   "language": "python",
   "name": "valance"
  },
  "language_info": {
   "codemirror_mode": {
    "name": "ipython",
    "version": 3
   },
   "file_extension": ".py",
   "mimetype": "text/x-python",
   "name": "python",
   "nbconvert_exporter": "python",
   "pygments_lexer": "ipython3",
   "version": "3.9.18"
  }
 },
 "nbformat": 4,
 "nbformat_minor": 5
}
